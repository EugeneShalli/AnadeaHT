{
 "cells": [
  {
   "cell_type": "code",
   "execution_count": null,
   "id": "28489f17",
   "metadata": {},
   "outputs": [],
   "source": [
    "import pandas as pd\n",
    "import matplotlib.pyplot as plt\n",
    "import seaborn as sns\n",
    "import plotly.express as px"
   ]
  },
  {
   "cell_type": "code",
   "execution_count": null,
   "id": "fd04cbd6",
   "metadata": {},
   "outputs": [],
   "source": [
    "df = pd.read_csv('livecell_base_preprocessing_old.csv')"
   ]
  },
  {
   "cell_type": "code",
   "execution_count": null,
   "id": "05c57198",
   "metadata": {
    "scrolled": true
   },
   "outputs": [],
   "source": [
    "df"
   ]
  },
  {
   "cell_type": "code",
   "execution_count": null,
   "id": "a589fa8f",
   "metadata": {},
   "outputs": [],
   "source": [
    "df_BT474 = df[df.cell_type=='BT474']"
   ]
  },
  {
   "cell_type": "code",
   "execution_count": null,
   "id": "fb8f4d1f",
   "metadata": {
    "scrolled": true
   },
   "outputs": [],
   "source": [
    "df_BT474"
   ]
  },
  {
   "cell_type": "code",
   "execution_count": null,
   "id": "182a7d4d",
   "metadata": {},
   "outputs": [],
   "source": [
    "df_counts = df.groupby(['image_id']).size()\n",
    "display(df_counts.head())\n",
    "ax = df_counts.hist(bins=50, grid=True)\n",
    "ax.set_xlabel(\"Annotations per image\")\n",
    "ax.set_ylabel(\"Images with particular annot. count\")"
   ]
  },
  {
   "cell_type": "code",
   "execution_count": null,
   "id": "7c98c0ad",
   "metadata": {},
   "outputs": [],
   "source": [
    "df = pd.read_csv('livecell_base_preprocessing.csv')"
   ]
  },
  {
   "cell_type": "code",
   "execution_count": null,
   "id": "ebac2f0b",
   "metadata": {
    "scrolled": true
   },
   "outputs": [],
   "source": [
    "df"
   ]
  },
  {
   "cell_type": "code",
   "execution_count": null,
   "id": "a39fc9c2",
   "metadata": {},
   "outputs": [],
   "source": [
    "df_train = df[df['original_split']=='train']\n",
    "df_val = df[df['original_split']=='val']\n",
    "df_test = df[df['original_split']=='test']\n",
    "df_list = [df_train, df_val, df_test]"
   ]
  },
  {
   "cell_type": "code",
   "execution_count": null,
   "id": "a489cb61",
   "metadata": {
    "scrolled": false
   },
   "outputs": [],
   "source": [
    "df_counts = df_train.groupby(['image_id']).size()\n",
    "display(df_counts.head())\n",
    "ax = df_counts.hist(bins=50, grid=True)\n",
    "ax.set_xlabel(\"Annotations per image\")\n",
    "ax.set_ylabel(\"Images with particular annot. count\")"
   ]
  },
  {
   "cell_type": "code",
   "execution_count": null,
   "id": "e7d068c1",
   "metadata": {},
   "outputs": [],
   "source": [
    "df_counts = df_val.groupby(['image_id']).size()\n",
    "display(df_counts.head())\n",
    "ax = df_counts.hist(bins=50, grid=True)\n",
    "ax.set_xlabel(\"Annotations per image\")\n",
    "ax.set_ylabel(\"Images with particular annot. count\")"
   ]
  },
  {
   "cell_type": "code",
   "execution_count": null,
   "id": "b9b89f4d",
   "metadata": {},
   "outputs": [],
   "source": [
    "df_counts = df_test.groupby(['image_id']).size()\n",
    "display(df_counts.head())\n",
    "ax = df_counts.hist(bins=50, grid=True)\n",
    "ax.set_xlabel(\"Annotations per image\")\n",
    "ax.set_ylabel(\"Images with particular annot. count\")"
   ]
  },
  {
   "cell_type": "code",
   "execution_count": null,
   "id": "b6f6737f",
   "metadata": {
    "scrolled": true
   },
   "outputs": [],
   "source": [
    "df_livecell_cell_types = df.groupby('image_id')['cell_type'].first().reset_index()\n",
    "visualize_cell_type_distributions(df=df_livecell_cell_types, title='Cell Type Distribution in LIVECell Dataset')"
   ]
  },
  {
   "cell_type": "code",
   "execution_count": null,
   "id": "1ba4814a",
   "metadata": {},
   "outputs": [],
   "source": [
    "df_livecell_cell_types = df_train.groupby('image_id')['cell_type'].first().reset_index()\n",
    "visualize_cell_type_distributions(df=df_livecell_cell_types, title='Cell Type Distribution in LIVECell Dataset')"
   ]
  },
  {
   "cell_type": "code",
   "execution_count": null,
   "id": "6e604dbe",
   "metadata": {
    "scrolled": true
   },
   "outputs": [],
   "source": [
    "df_livecell_cell_types = df_val.groupby('image_id')['cell_type'].first().reset_index()\n",
    "visualize_cell_type_distributions(df=df_livecell_cell_types, title='Cell Type Distribution in LIVECell Dataset')"
   ]
  },
  {
   "cell_type": "code",
   "execution_count": null,
   "id": "c5a3eeca",
   "metadata": {},
   "outputs": [],
   "source": [
    "df_livecell_cell_types = df_test.groupby('image_id')['cell_type'].first().reset_index()\n",
    "visualize_cell_type_distributions(df=df_livecell_cell_types, title='Cell Type Distribution in LIVECell Dataset')"
   ]
  },
  {
   "cell_type": "code",
   "execution_count": null,
   "id": "0bc88fa9",
   "metadata": {
    "scrolled": true
   },
   "outputs": [],
   "source": [
    "df_livecell_cell_types = df_test.groupby('cell_type')['image_id']\n",
    "visualize_cell_type_distributions(df=df_livecell_cell_types, title='Cell Type Distribution in LIVECell Dataset')"
   ]
  },
  {
   "cell_type": "code",
   "execution_count": null,
   "id": "ae1554fc",
   "metadata": {},
   "outputs": [],
   "source": [
    "import numpy as np\n",
    "import math\n",
    "import os\n",
    "from matplotlib.path import Path\n",
    "\n",
    "array = np.zeros((520, 704))\n",
    "array_help = df[df['image_id']==1564017][\"polygons\"].to_numpy()\n",
    "# print(type(df[df['image_id']=='1564017']['polygons']))\n",
    "# print(type(array_help[0]))\n",
    "for img_mask in array_help:\n",
    "#     print(type(img_mask))\n",
    "#     print(img_mask)\n",
    "    img_mask = img_mask[2:-2]\n",
    "    img_mask = np.array(img_mask.split())\n",
    "#     print(type(img_mask))\n",
    "#     print(img_mask)\n",
    "    x = img_mask[0::2]\n",
    "    y = img_mask[1::2]\n",
    "    \n",
    "    arr = [(x, y) for (x, y) in zip(y,x)]\n",
    "    vertices = np.asarray(arr)\n",
    "    path = Path(vertices)\n",
    "    xmin, ymin, xmax, ymax = np.asarray(path.get_extents(), dtype=int).ravel()\n",
    "    x, y = np.mgrid[:520, :704]\n",
    "    \n",
    "    # mesh grid to a list of points\n",
    "    points = np.vstack((x.ravel(), y.ravel())).T\n",
    "\n",
    "    # select points included in the path\n",
    "    mask = path.contains_points(points)\n",
    "    path_points = points[np.where(mask)]\n",
    "    print(mask)\n",
    "    # reshape mask for display\n",
    "    img_mask = mask.reshape(x.shape)\n",
    "    img_mask = img_mask.astype(np.int)\n",
    "    array += img_mask\n",
    "\n",
    "plt.figure(figsize=(15,15))\n",
    "plt.imshow(array.clip(0, 1))"
   ]
  },
  {
   "cell_type": "code",
   "execution_count": null,
   "id": "edf93bf1",
   "metadata": {},
   "outputs": [],
   "source": [
    "def mask_decode(mask):\n",
    "    array = np.zeros((520, 704))\n",
    "    for label in mask:\n",
    "        s = label.split()\n",
    "        starts = list(map(lambda x: int(x) - 1, s[0::2]))\n",
    "        lengths = list(map(int, s[1::2]))\n",
    "        ends = [x + y for x, y in zip(starts, lengths)]\n",
    "        img = np.zeros((520*704), dtype=np.float32)            \n",
    "        for start, end in zip(starts, ends):\n",
    "            img[start : end] = 1 \n",
    "        array += img.reshape((520, 704))\n",
    "    return array.clip(0, 1)\n",
    "\n",
    "def rle_encode(img):\n",
    "    \"\"\" TBD\n",
    "    \n",
    "    Args:\n",
    "        img (np.array): \n",
    "            - 1 indicating mask\n",
    "            - 0 indicating background\n",
    "    \n",
    "    Returns: \n",
    "        run length as string formated\n",
    "    \"\"\"\n",
    "    \n",
    "    pixels = img.flatten()\n",
    "    pixels = np.concatenate([[0], pixels, [0]])\n",
    "    runs = np.where(pixels[1:] != pixels[:-1])[0] + 1\n",
    "    runs[1::2] -= runs[::2]\n",
    "    return ' '.join(str(x) for x in runs)\n",
    "\n",
    "PatientInfoTuple = namedtuple(\n",
    "    'PatientInfoTuple',\n",
    "    'id, cell_type, annotations'\n",
    ")\n",
    "\n",
    "def getPatientsInfo():\n",
    "    df = pd.read_csv('../input/sartorius-cell-instance-segmentation/train.csv')\n",
    "    patientsInfo_list = list()\n",
    "    \n",
    "    for id in df.id.unique():\n",
    "        cell_type = df[df.id == id].cell_type.unique()[0]\n",
    "        annotations = df[df[\"id\"] == id][\"annotation\"].tolist()\n",
    "        \n",
    "        patientsInfo_list.append(PatientInfoTuple(\n",
    "            id,\n",
    "            cell_type,\n",
    "            annotations\n",
    "        ))\n",
    "        \n",
    "    return patientsInfo_list"
   ]
  },
  {
   "cell_type": "code",
   "execution_count": null,
   "id": "6019c328",
   "metadata": {},
   "outputs": [],
   "source": [
    "seg_list = list()\n",
    "array_help = df[df['image_id']==1564017][\"polygons\"].to_numpy()\n",
    "# print(type(df[df['image_id']=='1564017']['polygons']))\n",
    "print(type(array_help[0]))\n",
    "for img_mask in array_help:\n",
    "#     print(type(img_mask))\n",
    "#     print(img_mask)\n",
    "    img_mask = img_mask[2:-2]\n",
    "    img_mask = np.array(img_mask.split())\n",
    "    print(type(img_mask))\n",
    "\n",
    "    x = img_mask[0::2]\n",
    "    y = img_mask[1::2]\n",
    "    \n",
    "    arr = [(x, y) for (x, y) in zip(y,x)]\n",
    "    vertices = np.asarray(arr)\n",
    "    path = Path(vertices)\n",
    "    xmin, ymin, xmax, ymax = np.asarray(path.get_extents(), dtype=int).ravel()\n",
    "    x, y = np.mgrid[:520, :704]\n",
    "    \n",
    "    # mesh grid to a list of points\n",
    "    points = np.vstack((x.ravel(), y.ravel())).T\n",
    "\n",
    "    # select points included in the path\n",
    "    mask = path.contains_points(points)\n",
    "    path_points = points[np.where(mask)]\n",
    "\n",
    "    # reshape mask for display\n",
    "    img_mask = mask.reshape(x.shape)\n",
    "    img_mask = img_mask.astype(np.int)\n",
    "    # ENCODED MASK\n",
    "    encoded_img_mask = rle_encode(img_mask)\n",
    "    seg_list.append(encoded_img_mask)\n",
    "\n",
    "\n",
    "seg_list[0]"
   ]
  },
  {
   "cell_type": "code",
   "execution_count": null,
   "id": "a0d5b801",
   "metadata": {},
   "outputs": [],
   "source": []
  }
 ],
 "metadata": {
  "kernelspec": {
   "display_name": "Python 3 (ipykernel)",
   "language": "python",
   "name": "python3"
  },
  "language_info": {
   "codemirror_mode": {
    "name": "ipython",
    "version": 3
   },
   "file_extension": ".py",
   "mimetype": "text/x-python",
   "name": "python",
   "nbconvert_exporter": "python",
   "pygments_lexer": "ipython3",
   "version": "3.7.7"
  }
 },
 "nbformat": 4,
 "nbformat_minor": 5
}
